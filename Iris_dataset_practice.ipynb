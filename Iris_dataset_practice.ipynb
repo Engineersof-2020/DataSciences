{
  "nbformat": 4,
  "nbformat_minor": 0,
  "metadata": {
    "colab": {
      "name": "Iris dataset practice.ipynb",
      "provenance": [],
      "collapsed_sections": []
    },
    "kernelspec": {
      "name": "python3",
      "display_name": "Python 3"
    }
  },
  "cells": [
    {
      "cell_type": "code",
      "metadata": {
        "id": "qQuMSMh3Xk-L"
      },
      "source": [
        "%tensorflow_version 2.x"
      ],
      "execution_count": null,
      "outputs": []
    },
    {
      "cell_type": "code",
      "metadata": {
        "id": "XTkOx9tFNxIj"
      },
      "source": [
        "import numpy as np \n",
        "import pandas as pd\n",
        "import tensorflow as tf\n",
        "from sklearn.model_selection import train_test_split"
      ],
      "execution_count": null,
      "outputs": []
    },
    {
      "cell_type": "code",
      "metadata": {
        "colab": {
          "base_uri": "https://localhost:8080/"
        },
        "id": "f-TlrCooN8yb",
        "outputId": "117ced85-71f0-41b9-d28f-9123be2723fa"
      },
      "source": [
        "from google.colab import drive\n",
        "drive.mount(\"/content/drive/\")"
      ],
      "execution_count": null,
      "outputs": [
        {
          "output_type": "stream",
          "text": [
            "Mounted at /content/drive/\n"
          ],
          "name": "stdout"
        }
      ]
    },
    {
      "cell_type": "code",
      "metadata": {
        "colab": {
          "base_uri": "https://localhost:8080/"
        },
        "id": "7PKEi8qIYaGZ",
        "outputId": "5dfdb382-90d9-427e-871c-2ce8b89681c9"
      },
      "source": [
        "%cd /content/drive/MyDrive/Deep Learning Bootcamp/week 4/"
      ],
      "execution_count": null,
      "outputs": [
        {
          "output_type": "stream",
          "text": [
            "/content/drive/MyDrive/Deep Learning Bootcamp/week 4\n"
          ],
          "name": "stdout"
        }
      ]
    },
    {
      "cell_type": "code",
      "metadata": {
        "colab": {
          "base_uri": "https://localhost:8080/",
          "height": 419
        },
        "id": "P49KSDstaKV7",
        "outputId": "d848ad31-4bbc-4d40-810e-b52ff8bf08d3"
      },
      "source": [
        "iris = pd.read_csv(\"Iris.csv\")\n",
        "iris"
      ],
      "execution_count": null,
      "outputs": [
        {
          "output_type": "execute_result",
          "data": {
            "text/html": [
              "<div>\n",
              "<style scoped>\n",
              "    .dataframe tbody tr th:only-of-type {\n",
              "        vertical-align: middle;\n",
              "    }\n",
              "\n",
              "    .dataframe tbody tr th {\n",
              "        vertical-align: top;\n",
              "    }\n",
              "\n",
              "    .dataframe thead th {\n",
              "        text-align: right;\n",
              "    }\n",
              "</style>\n",
              "<table border=\"1\" class=\"dataframe\">\n",
              "  <thead>\n",
              "    <tr style=\"text-align: right;\">\n",
              "      <th></th>\n",
              "      <th>Id</th>\n",
              "      <th>SepalLengthCm</th>\n",
              "      <th>SepalWidthCm</th>\n",
              "      <th>PetalLengthCm</th>\n",
              "      <th>PetalWidthCm</th>\n",
              "      <th>Species</th>\n",
              "    </tr>\n",
              "  </thead>\n",
              "  <tbody>\n",
              "    <tr>\n",
              "      <th>0</th>\n",
              "      <td>1</td>\n",
              "      <td>5.1</td>\n",
              "      <td>3.5</td>\n",
              "      <td>1.4</td>\n",
              "      <td>0.2</td>\n",
              "      <td>Iris-setosa</td>\n",
              "    </tr>\n",
              "    <tr>\n",
              "      <th>1</th>\n",
              "      <td>2</td>\n",
              "      <td>4.9</td>\n",
              "      <td>3.0</td>\n",
              "      <td>1.4</td>\n",
              "      <td>0.2</td>\n",
              "      <td>Iris-setosa</td>\n",
              "    </tr>\n",
              "    <tr>\n",
              "      <th>2</th>\n",
              "      <td>3</td>\n",
              "      <td>4.7</td>\n",
              "      <td>3.2</td>\n",
              "      <td>1.3</td>\n",
              "      <td>0.2</td>\n",
              "      <td>Iris-setosa</td>\n",
              "    </tr>\n",
              "    <tr>\n",
              "      <th>3</th>\n",
              "      <td>4</td>\n",
              "      <td>4.6</td>\n",
              "      <td>3.1</td>\n",
              "      <td>1.5</td>\n",
              "      <td>0.2</td>\n",
              "      <td>Iris-setosa</td>\n",
              "    </tr>\n",
              "    <tr>\n",
              "      <th>4</th>\n",
              "      <td>5</td>\n",
              "      <td>5.0</td>\n",
              "      <td>3.6</td>\n",
              "      <td>1.4</td>\n",
              "      <td>0.2</td>\n",
              "      <td>Iris-setosa</td>\n",
              "    </tr>\n",
              "    <tr>\n",
              "      <th>...</th>\n",
              "      <td>...</td>\n",
              "      <td>...</td>\n",
              "      <td>...</td>\n",
              "      <td>...</td>\n",
              "      <td>...</td>\n",
              "      <td>...</td>\n",
              "    </tr>\n",
              "    <tr>\n",
              "      <th>145</th>\n",
              "      <td>146</td>\n",
              "      <td>6.7</td>\n",
              "      <td>3.0</td>\n",
              "      <td>5.2</td>\n",
              "      <td>2.3</td>\n",
              "      <td>Iris-virginica</td>\n",
              "    </tr>\n",
              "    <tr>\n",
              "      <th>146</th>\n",
              "      <td>147</td>\n",
              "      <td>6.3</td>\n",
              "      <td>2.5</td>\n",
              "      <td>5.0</td>\n",
              "      <td>1.9</td>\n",
              "      <td>Iris-virginica</td>\n",
              "    </tr>\n",
              "    <tr>\n",
              "      <th>147</th>\n",
              "      <td>148</td>\n",
              "      <td>6.5</td>\n",
              "      <td>3.0</td>\n",
              "      <td>5.2</td>\n",
              "      <td>2.0</td>\n",
              "      <td>Iris-virginica</td>\n",
              "    </tr>\n",
              "    <tr>\n",
              "      <th>148</th>\n",
              "      <td>149</td>\n",
              "      <td>6.2</td>\n",
              "      <td>3.4</td>\n",
              "      <td>5.4</td>\n",
              "      <td>2.3</td>\n",
              "      <td>Iris-virginica</td>\n",
              "    </tr>\n",
              "    <tr>\n",
              "      <th>149</th>\n",
              "      <td>150</td>\n",
              "      <td>5.9</td>\n",
              "      <td>3.0</td>\n",
              "      <td>5.1</td>\n",
              "      <td>1.8</td>\n",
              "      <td>Iris-virginica</td>\n",
              "    </tr>\n",
              "  </tbody>\n",
              "</table>\n",
              "<p>150 rows × 6 columns</p>\n",
              "</div>"
            ],
            "text/plain": [
              "      Id  SepalLengthCm  ...  PetalWidthCm         Species\n",
              "0      1            5.1  ...           0.2     Iris-setosa\n",
              "1      2            4.9  ...           0.2     Iris-setosa\n",
              "2      3            4.7  ...           0.2     Iris-setosa\n",
              "3      4            4.6  ...           0.2     Iris-setosa\n",
              "4      5            5.0  ...           0.2     Iris-setosa\n",
              "..   ...            ...  ...           ...             ...\n",
              "145  146            6.7  ...           2.3  Iris-virginica\n",
              "146  147            6.3  ...           1.9  Iris-virginica\n",
              "147  148            6.5  ...           2.0  Iris-virginica\n",
              "148  149            6.2  ...           2.3  Iris-virginica\n",
              "149  150            5.9  ...           1.8  Iris-virginica\n",
              "\n",
              "[150 rows x 6 columns]"
            ]
          },
          "metadata": {
            "tags": []
          },
          "execution_count": 5
        }
      ]
    },
    {
      "cell_type": "code",
      "metadata": {
        "id": "sUNbp3MiaW8l"
      },
      "source": [
        "naya_variable = iris.iloc[:,[1,2,3,4]]"
      ],
      "execution_count": null,
      "outputs": []
    },
    {
      "cell_type": "code",
      "metadata": {
        "colab": {
          "base_uri": "https://localhost:8080/",
          "height": 419
        },
        "id": "kSYZ_UOsi6ES",
        "outputId": "bb48acb9-5f34-4365-9a9f-36ec1c854360"
      },
      "source": [
        "naya_variable"
      ],
      "execution_count": null,
      "outputs": [
        {
          "output_type": "execute_result",
          "data": {
            "text/html": [
              "<div>\n",
              "<style scoped>\n",
              "    .dataframe tbody tr th:only-of-type {\n",
              "        vertical-align: middle;\n",
              "    }\n",
              "\n",
              "    .dataframe tbody tr th {\n",
              "        vertical-align: top;\n",
              "    }\n",
              "\n",
              "    .dataframe thead th {\n",
              "        text-align: right;\n",
              "    }\n",
              "</style>\n",
              "<table border=\"1\" class=\"dataframe\">\n",
              "  <thead>\n",
              "    <tr style=\"text-align: right;\">\n",
              "      <th></th>\n",
              "      <th>SepalLengthCm</th>\n",
              "      <th>SepalWidthCm</th>\n",
              "      <th>PetalLengthCm</th>\n",
              "      <th>PetalWidthCm</th>\n",
              "    </tr>\n",
              "  </thead>\n",
              "  <tbody>\n",
              "    <tr>\n",
              "      <th>0</th>\n",
              "      <td>5.1</td>\n",
              "      <td>3.5</td>\n",
              "      <td>1.4</td>\n",
              "      <td>0.2</td>\n",
              "    </tr>\n",
              "    <tr>\n",
              "      <th>1</th>\n",
              "      <td>4.9</td>\n",
              "      <td>3.0</td>\n",
              "      <td>1.4</td>\n",
              "      <td>0.2</td>\n",
              "    </tr>\n",
              "    <tr>\n",
              "      <th>2</th>\n",
              "      <td>4.7</td>\n",
              "      <td>3.2</td>\n",
              "      <td>1.3</td>\n",
              "      <td>0.2</td>\n",
              "    </tr>\n",
              "    <tr>\n",
              "      <th>3</th>\n",
              "      <td>4.6</td>\n",
              "      <td>3.1</td>\n",
              "      <td>1.5</td>\n",
              "      <td>0.2</td>\n",
              "    </tr>\n",
              "    <tr>\n",
              "      <th>4</th>\n",
              "      <td>5.0</td>\n",
              "      <td>3.6</td>\n",
              "      <td>1.4</td>\n",
              "      <td>0.2</td>\n",
              "    </tr>\n",
              "    <tr>\n",
              "      <th>...</th>\n",
              "      <td>...</td>\n",
              "      <td>...</td>\n",
              "      <td>...</td>\n",
              "      <td>...</td>\n",
              "    </tr>\n",
              "    <tr>\n",
              "      <th>145</th>\n",
              "      <td>6.7</td>\n",
              "      <td>3.0</td>\n",
              "      <td>5.2</td>\n",
              "      <td>2.3</td>\n",
              "    </tr>\n",
              "    <tr>\n",
              "      <th>146</th>\n",
              "      <td>6.3</td>\n",
              "      <td>2.5</td>\n",
              "      <td>5.0</td>\n",
              "      <td>1.9</td>\n",
              "    </tr>\n",
              "    <tr>\n",
              "      <th>147</th>\n",
              "      <td>6.5</td>\n",
              "      <td>3.0</td>\n",
              "      <td>5.2</td>\n",
              "      <td>2.0</td>\n",
              "    </tr>\n",
              "    <tr>\n",
              "      <th>148</th>\n",
              "      <td>6.2</td>\n",
              "      <td>3.4</td>\n",
              "      <td>5.4</td>\n",
              "      <td>2.3</td>\n",
              "    </tr>\n",
              "    <tr>\n",
              "      <th>149</th>\n",
              "      <td>5.9</td>\n",
              "      <td>3.0</td>\n",
              "      <td>5.1</td>\n",
              "      <td>1.8</td>\n",
              "    </tr>\n",
              "  </tbody>\n",
              "</table>\n",
              "<p>150 rows × 4 columns</p>\n",
              "</div>"
            ],
            "text/plain": [
              "     SepalLengthCm  SepalWidthCm  PetalLengthCm  PetalWidthCm\n",
              "0              5.1           3.5            1.4           0.2\n",
              "1              4.9           3.0            1.4           0.2\n",
              "2              4.7           3.2            1.3           0.2\n",
              "3              4.6           3.1            1.5           0.2\n",
              "4              5.0           3.6            1.4           0.2\n",
              "..             ...           ...            ...           ...\n",
              "145            6.7           3.0            5.2           2.3\n",
              "146            6.3           2.5            5.0           1.9\n",
              "147            6.5           3.0            5.2           2.0\n",
              "148            6.2           3.4            5.4           2.3\n",
              "149            5.9           3.0            5.1           1.8\n",
              "\n",
              "[150 rows x 4 columns]"
            ]
          },
          "metadata": {
            "tags": []
          },
          "execution_count": 9
        }
      ]
    },
    {
      "cell_type": "code",
      "metadata": {
        "id": "qlYur3phjB4_"
      },
      "source": [
        "x_array = naya_variable.values"
      ],
      "execution_count": null,
      "outputs": []
    },
    {
      "cell_type": "code",
      "metadata": {
        "id": "INJQSAjKkOKh"
      },
      "source": [
        "y_array = iris.iloc[: ,6]"
      ],
      "execution_count": null,
      "outputs": []
    },
    {
      "cell_type": "code",
      "metadata": {
        "colab": {
          "base_uri": "https://localhost:8080/"
        },
        "id": "CUYImCCr0Msy",
        "outputId": "5d933dbf-4b48-4202-a96c-0c6ba843949c"
      },
      "source": [
        "y_array"
      ],
      "execution_count": null,
      "outputs": [
        {
          "output_type": "execute_result",
          "data": {
            "text/plain": [
              "0      0\n",
              "1      0\n",
              "2      0\n",
              "3      0\n",
              "4      0\n",
              "      ..\n",
              "145    2\n",
              "146    2\n",
              "147    2\n",
              "148    2\n",
              "149    2\n",
              "Name: class, Length: 150, dtype: int8"
            ]
          },
          "metadata": {
            "tags": []
          },
          "execution_count": 29
        }
      ]
    },
    {
      "cell_type": "code",
      "metadata": {
        "id": "EiQFcuCBlC1S"
      },
      "source": [
        "y_array = y_array.values"
      ],
      "execution_count": null,
      "outputs": []
    },
    {
      "cell_type": "code",
      "metadata": {
        "colab": {
          "base_uri": "https://localhost:8080/"
        },
        "id": "eXU-c_B0lUUa",
        "outputId": "0b1d0364-56be-4d9c-ea6e-431a435a8fcc"
      },
      "source": [
        "y_array"
      ],
      "execution_count": null,
      "outputs": [
        {
          "output_type": "execute_result",
          "data": {
            "text/plain": [
              "array([0, 0, 0, 0, 0, 0, 0, 0, 0, 0, 0, 0, 0, 0, 0, 0, 0, 0, 0, 0, 0, 0,\n",
              "       0, 0, 0, 0, 0, 0, 0, 0, 0, 0, 0, 0, 0, 0, 0, 0, 0, 0, 0, 0, 0, 0,\n",
              "       0, 0, 0, 0, 0, 0, 1, 1, 1, 1, 1, 1, 1, 1, 1, 1, 1, 1, 1, 1, 1, 1,\n",
              "       1, 1, 1, 1, 1, 1, 1, 1, 1, 1, 1, 1, 1, 1, 1, 1, 1, 1, 1, 1, 1, 1,\n",
              "       1, 1, 1, 1, 1, 1, 1, 1, 1, 1, 1, 1, 2, 2, 2, 2, 2, 2, 2, 2, 2, 2,\n",
              "       2, 2, 2, 2, 2, 2, 2, 2, 2, 2, 2, 2, 2, 2, 2, 2, 2, 2, 2, 2, 2, 2,\n",
              "       2, 2, 2, 2, 2, 2, 2, 2, 2, 2, 2, 2, 2, 2, 2, 2, 2, 2], dtype=int8)"
            ]
          },
          "metadata": {
            "tags": []
          },
          "execution_count": 31
        }
      ]
    },
    {
      "cell_type": "code",
      "metadata": {
        "id": "3Qt2NRNlljL9"
      },
      "source": [
        "iris['class'] =  [0]*100 + [1]*50"
      ],
      "execution_count": null,
      "outputs": []
    },
    {
      "cell_type": "code",
      "metadata": {
        "colab": {
          "base_uri": "https://localhost:8080/"
        },
        "id": "DBRPbEFEmgOT",
        "outputId": "b49e67f9-ca49-4e9e-d117-6269d610e70b"
      },
      "source": [
        "iris['Species']. dtype"
      ],
      "execution_count": null,
      "outputs": [
        {
          "output_type": "execute_result",
          "data": {
            "text/plain": [
              "dtype('O')"
            ]
          },
          "metadata": {
            "tags": []
          },
          "execution_count": 21
        }
      ]
    },
    {
      "cell_type": "code",
      "metadata": {
        "id": "F7gXwc8mmvf2"
      },
      "source": [
        "iris['Species']= iris[\"Species\"].astype('category') "
      ],
      "execution_count": null,
      "outputs": []
    },
    {
      "cell_type": "code",
      "metadata": {
        "id": "roshsLaRwuYz"
      },
      "source": [
        "iris['class'] = iris[\"Species\"].cat.codes"
      ],
      "execution_count": null,
      "outputs": []
    },
    {
      "cell_type": "code",
      "metadata": {
        "colab": {
          "base_uri": "https://localhost:8080/",
          "height": 419
        },
        "id": "vOM54tYmxh0r",
        "outputId": "f1209774-16ca-41d6-982a-a2a8cccb7e00"
      },
      "source": [
        "iris"
      ],
      "execution_count": null,
      "outputs": [
        {
          "output_type": "execute_result",
          "data": {
            "text/html": [
              "<div>\n",
              "<style scoped>\n",
              "    .dataframe tbody tr th:only-of-type {\n",
              "        vertical-align: middle;\n",
              "    }\n",
              "\n",
              "    .dataframe tbody tr th {\n",
              "        vertical-align: top;\n",
              "    }\n",
              "\n",
              "    .dataframe thead th {\n",
              "        text-align: right;\n",
              "    }\n",
              "</style>\n",
              "<table border=\"1\" class=\"dataframe\">\n",
              "  <thead>\n",
              "    <tr style=\"text-align: right;\">\n",
              "      <th></th>\n",
              "      <th>Id</th>\n",
              "      <th>SepalLengthCm</th>\n",
              "      <th>SepalWidthCm</th>\n",
              "      <th>PetalLengthCm</th>\n",
              "      <th>PetalWidthCm</th>\n",
              "      <th>Species</th>\n",
              "      <th>class</th>\n",
              "    </tr>\n",
              "  </thead>\n",
              "  <tbody>\n",
              "    <tr>\n",
              "      <th>0</th>\n",
              "      <td>1</td>\n",
              "      <td>5.1</td>\n",
              "      <td>3.5</td>\n",
              "      <td>1.4</td>\n",
              "      <td>0.2</td>\n",
              "      <td>Iris-setosa</td>\n",
              "      <td>0</td>\n",
              "    </tr>\n",
              "    <tr>\n",
              "      <th>1</th>\n",
              "      <td>2</td>\n",
              "      <td>4.9</td>\n",
              "      <td>3.0</td>\n",
              "      <td>1.4</td>\n",
              "      <td>0.2</td>\n",
              "      <td>Iris-setosa</td>\n",
              "      <td>0</td>\n",
              "    </tr>\n",
              "    <tr>\n",
              "      <th>2</th>\n",
              "      <td>3</td>\n",
              "      <td>4.7</td>\n",
              "      <td>3.2</td>\n",
              "      <td>1.3</td>\n",
              "      <td>0.2</td>\n",
              "      <td>Iris-setosa</td>\n",
              "      <td>0</td>\n",
              "    </tr>\n",
              "    <tr>\n",
              "      <th>3</th>\n",
              "      <td>4</td>\n",
              "      <td>4.6</td>\n",
              "      <td>3.1</td>\n",
              "      <td>1.5</td>\n",
              "      <td>0.2</td>\n",
              "      <td>Iris-setosa</td>\n",
              "      <td>0</td>\n",
              "    </tr>\n",
              "    <tr>\n",
              "      <th>4</th>\n",
              "      <td>5</td>\n",
              "      <td>5.0</td>\n",
              "      <td>3.6</td>\n",
              "      <td>1.4</td>\n",
              "      <td>0.2</td>\n",
              "      <td>Iris-setosa</td>\n",
              "      <td>0</td>\n",
              "    </tr>\n",
              "    <tr>\n",
              "      <th>...</th>\n",
              "      <td>...</td>\n",
              "      <td>...</td>\n",
              "      <td>...</td>\n",
              "      <td>...</td>\n",
              "      <td>...</td>\n",
              "      <td>...</td>\n",
              "      <td>...</td>\n",
              "    </tr>\n",
              "    <tr>\n",
              "      <th>145</th>\n",
              "      <td>146</td>\n",
              "      <td>6.7</td>\n",
              "      <td>3.0</td>\n",
              "      <td>5.2</td>\n",
              "      <td>2.3</td>\n",
              "      <td>Iris-virginica</td>\n",
              "      <td>2</td>\n",
              "    </tr>\n",
              "    <tr>\n",
              "      <th>146</th>\n",
              "      <td>147</td>\n",
              "      <td>6.3</td>\n",
              "      <td>2.5</td>\n",
              "      <td>5.0</td>\n",
              "      <td>1.9</td>\n",
              "      <td>Iris-virginica</td>\n",
              "      <td>2</td>\n",
              "    </tr>\n",
              "    <tr>\n",
              "      <th>147</th>\n",
              "      <td>148</td>\n",
              "      <td>6.5</td>\n",
              "      <td>3.0</td>\n",
              "      <td>5.2</td>\n",
              "      <td>2.0</td>\n",
              "      <td>Iris-virginica</td>\n",
              "      <td>2</td>\n",
              "    </tr>\n",
              "    <tr>\n",
              "      <th>148</th>\n",
              "      <td>149</td>\n",
              "      <td>6.2</td>\n",
              "      <td>3.4</td>\n",
              "      <td>5.4</td>\n",
              "      <td>2.3</td>\n",
              "      <td>Iris-virginica</td>\n",
              "      <td>2</td>\n",
              "    </tr>\n",
              "    <tr>\n",
              "      <th>149</th>\n",
              "      <td>150</td>\n",
              "      <td>5.9</td>\n",
              "      <td>3.0</td>\n",
              "      <td>5.1</td>\n",
              "      <td>1.8</td>\n",
              "      <td>Iris-virginica</td>\n",
              "      <td>2</td>\n",
              "    </tr>\n",
              "  </tbody>\n",
              "</table>\n",
              "<p>150 rows × 7 columns</p>\n",
              "</div>"
            ],
            "text/plain": [
              "      Id  SepalLengthCm  SepalWidthCm  ...  PetalWidthCm         Species class\n",
              "0      1            5.1           3.5  ...           0.2     Iris-setosa     0\n",
              "1      2            4.9           3.0  ...           0.2     Iris-setosa     0\n",
              "2      3            4.7           3.2  ...           0.2     Iris-setosa     0\n",
              "3      4            4.6           3.1  ...           0.2     Iris-setosa     0\n",
              "4      5            5.0           3.6  ...           0.2     Iris-setosa     0\n",
              "..   ...            ...           ...  ...           ...             ...   ...\n",
              "145  146            6.7           3.0  ...           2.3  Iris-virginica     2\n",
              "146  147            6.3           2.5  ...           1.9  Iris-virginica     2\n",
              "147  148            6.5           3.0  ...           2.0  Iris-virginica     2\n",
              "148  149            6.2           3.4  ...           2.3  Iris-virginica     2\n",
              "149  150            5.9           3.0  ...           1.8  Iris-virginica     2\n",
              "\n",
              "[150 rows x 7 columns]"
            ]
          },
          "metadata": {
            "tags": []
          },
          "execution_count": 27
        }
      ]
    },
    {
      "cell_type": "code",
      "metadata": {
        "id": "vxPnEYAbxqGS"
      },
      "source": [
        "x_train, x_test, y_train, y_test= train_test_split(x_array, y_array, test_size=0.1, shuffle = True, random_state = 50)"
      ],
      "execution_count": null,
      "outputs": []
    },
    {
      "cell_type": "code",
      "metadata": {
        "colab": {
          "base_uri": "https://localhost:8080/"
        },
        "id": "dIiHBnpp1hWN",
        "outputId": "7309b4a0-8167-4beb-8aa3-393ec70d0bd0"
      },
      "source": [
        "x_train.shape"
      ],
      "execution_count": null,
      "outputs": [
        {
          "output_type": "execute_result",
          "data": {
            "text/plain": [
              "(135, 4)"
            ]
          },
          "metadata": {
            "tags": []
          },
          "execution_count": 41
        }
      ]
    },
    {
      "cell_type": "code",
      "metadata": {
        "colab": {
          "base_uri": "https://localhost:8080/"
        },
        "id": "fwQoyBL727a_",
        "outputId": "5492095a-6fbe-4bf3-aece-7377ccfc2210"
      },
      "source": [
        "x_test.shape"
      ],
      "execution_count": null,
      "outputs": [
        {
          "output_type": "execute_result",
          "data": {
            "text/plain": [
              "(15, 4)"
            ]
          },
          "metadata": {
            "tags": []
          },
          "execution_count": 42
        }
      ]
    },
    {
      "cell_type": "code",
      "metadata": {
        "colab": {
          "base_uri": "https://localhost:8080/"
        },
        "id": "2U8DRnh_2-Zo",
        "outputId": "e1afff44-f62b-427c-9aa1-51737ba95a20"
      },
      "source": [
        "y_train"
      ],
      "execution_count": null,
      "outputs": [
        {
          "output_type": "execute_result",
          "data": {
            "text/plain": [
              "array([0, 1, 0, 1, 1, 2, 1, 0, 2, 1, 2, 1, 1, 1, 2, 2, 1, 1, 2, 0, 0, 1,\n",
              "       2, 1, 0, 0, 1, 2, 0, 2, 0, 0, 0, 2, 2, 1, 0, 0, 1, 2, 1, 1, 0, 0,\n",
              "       2, 2, 1, 2, 0, 0, 2, 1, 0, 1, 0, 2, 2, 1, 2, 1, 0, 1, 0, 1, 1, 0,\n",
              "       0, 1, 0, 1, 0, 1, 2, 2, 2, 1, 2, 0, 2, 0, 1, 0, 2, 0, 0, 2, 2, 2,\n",
              "       2, 0, 2, 1, 2, 1, 0, 1, 2, 0, 2, 1, 1, 1, 1, 2, 1, 0, 2, 0, 2, 0,\n",
              "       1, 2, 0, 0, 1, 2, 1, 0, 0, 0, 2, 1, 1, 2, 1, 1, 0, 2, 0, 2, 1, 2,\n",
              "       0, 2, 2], dtype=int8)"
            ]
          },
          "metadata": {
            "tags": []
          },
          "execution_count": 43
        }
      ]
    },
    {
      "cell_type": "code",
      "metadata": {
        "colab": {
          "base_uri": "https://localhost:8080/"
        },
        "id": "l-ZPeQDX3869",
        "outputId": "b84d12ce-3d2e-4ad0-9a7a-0c17b15c6934"
      },
      "source": [
        "y_test"
      ],
      "execution_count": null,
      "outputs": [
        {
          "output_type": "execute_result",
          "data": {
            "text/plain": [
              "array([1, 1, 0, 0, 2, 2, 2, 0, 0, 1, 0, 2, 0, 2, 1], dtype=int8)"
            ]
          },
          "metadata": {
            "tags": []
          },
          "execution_count": 44
        }
      ]
    },
    {
      "cell_type": "code",
      "metadata": {
        "id": "1BeD5L2n3-4A"
      },
      "source": [
        "model = tf.keras.models.Sequential()"
      ],
      "execution_count": null,
      "outputs": []
    },
    {
      "cell_type": "code",
      "metadata": {
        "id": "UUkv5iYQ5NDm"
      },
      "source": [
        "model.add(\n",
        "    tf.keras.layers.Dense(32, input_shape = (4,), activation = 'relu')\n",
        ")\n",
        "model.add(\n",
        "     tf.keras.layers.Dense(32, activation= 'relu')\n",
        ")\n",
        "\n",
        "model.add(\n",
        "    tf.keras.layers.Dense(3, activation = 'softmax')\n",
        ")"
      ],
      "execution_count": null,
      "outputs": []
    },
    {
      "cell_type": "code",
      "metadata": {
        "id": "jvteulPc5_ID"
      },
      "source": [
        "model.compile(loss = \"sparse_categorical_crossentropy\", optimizer = 'rmsprop')"
      ],
      "execution_count": null,
      "outputs": []
    },
    {
      "cell_type": "code",
      "metadata": {
        "colab": {
          "base_uri": "https://localhost:8080/"
        },
        "id": "gJsh5gRIBSTl",
        "outputId": "2813da21-42f1-49ae-a319-03b579a78fa9"
      },
      "source": [
        "model.summary()"
      ],
      "execution_count": null,
      "outputs": [
        {
          "output_type": "stream",
          "text": [
            "Model: \"sequential\"\n",
            "_________________________________________________________________\n",
            "Layer (type)                 Output Shape              Param #   \n",
            "=================================================================\n",
            "dense (Dense)                (None, 32)                160       \n",
            "_________________________________________________________________\n",
            "dense_1 (Dense)              (None, 32)                1056      \n",
            "_________________________________________________________________\n",
            "dense_2 (Dense)              (None, 1)                 33        \n",
            "_________________________________________________________________\n",
            "dense_3 (Dense)              (None, 32)                64        \n",
            "_________________________________________________________________\n",
            "dense_4 (Dense)              (None, 32)                1056      \n",
            "_________________________________________________________________\n",
            "dense_5 (Dense)              (None, 3)                 99        \n",
            "=================================================================\n",
            "Total params: 2,468\n",
            "Trainable params: 2,468\n",
            "Non-trainable params: 0\n",
            "_________________________________________________________________\n"
          ],
          "name": "stdout"
        }
      ]
    },
    {
      "cell_type": "code",
      "metadata": {
        "colab": {
          "base_uri": "https://localhost:8080/"
        },
        "id": "Mut7ZUZH8QZB",
        "outputId": "70b7b641-9682-44af-a0c8-65fa66d8fe8f"
      },
      "source": [
        "model.fit(x_train, y_train, validation_split = 0.1, epochs=200 )"
      ],
      "execution_count": null,
      "outputs": [
        {
          "output_type": "stream",
          "text": [
            "Epoch 1/200\n",
            "4/4 [==============================] - 0s 12ms/step - loss: 0.4599 - val_loss: 0.5485\n",
            "Epoch 2/200\n",
            "4/4 [==============================] - 0s 7ms/step - loss: 0.4611 - val_loss: 0.5467\n",
            "Epoch 3/200\n",
            "4/4 [==============================] - 0s 5ms/step - loss: 0.4587 - val_loss: 0.5482\n",
            "Epoch 4/200\n",
            "4/4 [==============================] - 0s 6ms/step - loss: 0.4598 - val_loss: 0.5462\n",
            "Epoch 5/200\n",
            "4/4 [==============================] - 0s 6ms/step - loss: 0.4616 - val_loss: 0.5465\n",
            "Epoch 6/200\n",
            "4/4 [==============================] - 0s 6ms/step - loss: 0.4610 - val_loss: 0.5460\n",
            "Epoch 7/200\n",
            "4/4 [==============================] - 0s 7ms/step - loss: 0.4594 - val_loss: 0.5466\n",
            "Epoch 8/200\n",
            "4/4 [==============================] - 0s 6ms/step - loss: 0.4598 - val_loss: 0.5472\n",
            "Epoch 9/200\n",
            "4/4 [==============================] - 0s 5ms/step - loss: 0.4594 - val_loss: 0.5476\n",
            "Epoch 10/200\n",
            "4/4 [==============================] - 0s 6ms/step - loss: 0.4607 - val_loss: 0.5487\n",
            "Epoch 11/200\n",
            "4/4 [==============================] - 0s 6ms/step - loss: 0.4584 - val_loss: 0.5472\n",
            "Epoch 12/200\n",
            "4/4 [==============================] - 0s 7ms/step - loss: 0.4584 - val_loss: 0.5468\n",
            "Epoch 13/200\n",
            "4/4 [==============================] - 0s 5ms/step - loss: 0.4608 - val_loss: 0.5478\n",
            "Epoch 14/200\n",
            "4/4 [==============================] - 0s 6ms/step - loss: 0.4589 - val_loss: 0.5467\n",
            "Epoch 15/200\n",
            "4/4 [==============================] - 0s 6ms/step - loss: 0.4656 - val_loss: 0.5464\n",
            "Epoch 16/200\n",
            "4/4 [==============================] - 0s 5ms/step - loss: 0.4596 - val_loss: 0.5465\n",
            "Epoch 17/200\n",
            "4/4 [==============================] - 0s 6ms/step - loss: 0.4604 - val_loss: 0.5453\n",
            "Epoch 18/200\n",
            "4/4 [==============================] - 0s 6ms/step - loss: 0.4591 - val_loss: 0.5461\n",
            "Epoch 19/200\n",
            "4/4 [==============================] - 0s 6ms/step - loss: 0.4619 - val_loss: 0.5453\n",
            "Epoch 20/200\n",
            "4/4 [==============================] - 0s 5ms/step - loss: 0.4617 - val_loss: 0.5457\n",
            "Epoch 21/200\n",
            "4/4 [==============================] - 0s 6ms/step - loss: 0.4585 - val_loss: 0.5468\n",
            "Epoch 22/200\n",
            "4/4 [==============================] - 0s 6ms/step - loss: 0.4600 - val_loss: 0.5457\n",
            "Epoch 23/200\n",
            "4/4 [==============================] - 0s 5ms/step - loss: 0.4600 - val_loss: 0.5453\n",
            "Epoch 24/200\n",
            "4/4 [==============================] - 0s 6ms/step - loss: 0.4617 - val_loss: 0.5455\n",
            "Epoch 25/200\n",
            "4/4 [==============================] - 0s 6ms/step - loss: 0.4584 - val_loss: 0.5465\n",
            "Epoch 26/200\n",
            "4/4 [==============================] - 0s 5ms/step - loss: 0.4610 - val_loss: 0.5483\n",
            "Epoch 27/200\n",
            "4/4 [==============================] - 0s 5ms/step - loss: 0.4585 - val_loss: 0.5484\n",
            "Epoch 28/200\n",
            "4/4 [==============================] - 0s 6ms/step - loss: 0.4585 - val_loss: 0.5489\n",
            "Epoch 29/200\n",
            "4/4 [==============================] - 0s 6ms/step - loss: 0.4596 - val_loss: 0.5489\n",
            "Epoch 30/200\n",
            "4/4 [==============================] - 0s 5ms/step - loss: 0.4586 - val_loss: 0.5478\n",
            "Epoch 31/200\n",
            "4/4 [==============================] - 0s 6ms/step - loss: 0.4592 - val_loss: 0.5479\n",
            "Epoch 32/200\n",
            "4/4 [==============================] - 0s 6ms/step - loss: 0.4614 - val_loss: 0.5498\n",
            "Epoch 33/200\n",
            "4/4 [==============================] - 0s 6ms/step - loss: 0.4588 - val_loss: 0.5487\n",
            "Epoch 34/200\n",
            "4/4 [==============================] - 0s 5ms/step - loss: 0.4605 - val_loss: 0.5461\n",
            "Epoch 35/200\n",
            "4/4 [==============================] - 0s 6ms/step - loss: 0.4602 - val_loss: 0.5464\n",
            "Epoch 36/200\n",
            "4/4 [==============================] - 0s 5ms/step - loss: 0.4588 - val_loss: 0.5467\n",
            "Epoch 37/200\n",
            "4/4 [==============================] - 0s 7ms/step - loss: 0.4600 - val_loss: 0.5455\n",
            "Epoch 38/200\n",
            "4/4 [==============================] - 0s 5ms/step - loss: 0.4586 - val_loss: 0.5465\n",
            "Epoch 39/200\n",
            "4/4 [==============================] - 0s 6ms/step - loss: 0.4592 - val_loss: 0.5475\n",
            "Epoch 40/200\n",
            "4/4 [==============================] - 0s 6ms/step - loss: 0.4604 - val_loss: 0.5465\n",
            "Epoch 41/200\n",
            "4/4 [==============================] - 0s 7ms/step - loss: 0.4594 - val_loss: 0.5460\n",
            "Epoch 42/200\n",
            "4/4 [==============================] - 0s 6ms/step - loss: 0.4587 - val_loss: 0.5473\n",
            "Epoch 43/200\n",
            "4/4 [==============================] - 0s 6ms/step - loss: 0.4592 - val_loss: 0.5461\n",
            "Epoch 44/200\n",
            "4/4 [==============================] - 0s 6ms/step - loss: 0.4607 - val_loss: 0.5463\n",
            "Epoch 45/200\n",
            "4/4 [==============================] - 0s 6ms/step - loss: 0.4623 - val_loss: 0.5469\n",
            "Epoch 46/200\n",
            "4/4 [==============================] - 0s 6ms/step - loss: 0.4584 - val_loss: 0.5475\n",
            "Epoch 47/200\n",
            "4/4 [==============================] - 0s 5ms/step - loss: 0.4621 - val_loss: 0.5473\n",
            "Epoch 48/200\n",
            "4/4 [==============================] - 0s 5ms/step - loss: 0.4588 - val_loss: 0.5476\n",
            "Epoch 49/200\n",
            "4/4 [==============================] - 0s 6ms/step - loss: 0.4586 - val_loss: 0.5482\n",
            "Epoch 50/200\n",
            "4/4 [==============================] - 0s 6ms/step - loss: 0.4606 - val_loss: 0.5460\n",
            "Epoch 51/200\n",
            "4/4 [==============================] - 0s 6ms/step - loss: 0.4593 - val_loss: 0.5446\n",
            "Epoch 52/200\n",
            "4/4 [==============================] - 0s 6ms/step - loss: 0.4589 - val_loss: 0.5470\n",
            "Epoch 53/200\n",
            "4/4 [==============================] - 0s 6ms/step - loss: 0.4617 - val_loss: 0.5475\n",
            "Epoch 54/200\n",
            "4/4 [==============================] - 0s 6ms/step - loss: 0.4583 - val_loss: 0.5479\n",
            "Epoch 55/200\n",
            "4/4 [==============================] - 0s 6ms/step - loss: 0.4601 - val_loss: 0.5482\n",
            "Epoch 56/200\n",
            "4/4 [==============================] - 0s 6ms/step - loss: 0.4595 - val_loss: 0.5493\n",
            "Epoch 57/200\n",
            "4/4 [==============================] - 0s 6ms/step - loss: 0.4589 - val_loss: 0.5488\n",
            "Epoch 58/200\n",
            "4/4 [==============================] - 0s 7ms/step - loss: 0.4601 - val_loss: 0.5480\n",
            "Epoch 59/200\n",
            "4/4 [==============================] - 0s 6ms/step - loss: 0.4590 - val_loss: 0.5466\n",
            "Epoch 60/200\n",
            "4/4 [==============================] - 0s 6ms/step - loss: 0.4610 - val_loss: 0.5486\n",
            "Epoch 61/200\n",
            "4/4 [==============================] - 0s 6ms/step - loss: 0.4600 - val_loss: 0.5497\n",
            "Epoch 62/200\n",
            "4/4 [==============================] - 0s 8ms/step - loss: 0.4593 - val_loss: 0.5487\n",
            "Epoch 63/200\n",
            "4/4 [==============================] - 0s 6ms/step - loss: 0.4587 - val_loss: 0.5481\n",
            "Epoch 64/200\n",
            "4/4 [==============================] - 0s 7ms/step - loss: 0.4585 - val_loss: 0.5484\n",
            "Epoch 65/200\n",
            "4/4 [==============================] - 0s 6ms/step - loss: 0.4599 - val_loss: 0.5466\n",
            "Epoch 66/200\n",
            "4/4 [==============================] - 0s 6ms/step - loss: 0.4601 - val_loss: 0.5454\n",
            "Epoch 67/200\n",
            "4/4 [==============================] - 0s 6ms/step - loss: 0.4587 - val_loss: 0.5461\n",
            "Epoch 68/200\n",
            "4/4 [==============================] - 0s 6ms/step - loss: 0.4623 - val_loss: 0.5455\n",
            "Epoch 69/200\n",
            "4/4 [==============================] - 0s 6ms/step - loss: 0.4593 - val_loss: 0.5456\n",
            "Epoch 70/200\n",
            "4/4 [==============================] - 0s 9ms/step - loss: 0.4589 - val_loss: 0.5464\n",
            "Epoch 71/200\n",
            "4/4 [==============================] - 0s 6ms/step - loss: 0.4587 - val_loss: 0.5468\n",
            "Epoch 72/200\n",
            "4/4 [==============================] - 0s 6ms/step - loss: 0.4588 - val_loss: 0.5477\n",
            "Epoch 73/200\n",
            "4/4 [==============================] - 0s 6ms/step - loss: 0.4600 - val_loss: 0.5480\n",
            "Epoch 74/200\n",
            "4/4 [==============================] - 0s 6ms/step - loss: 0.4609 - val_loss: 0.5467\n",
            "Epoch 75/200\n",
            "4/4 [==============================] - 0s 7ms/step - loss: 0.4582 - val_loss: 0.5464\n",
            "Epoch 76/200\n",
            "4/4 [==============================] - 0s 7ms/step - loss: 0.4591 - val_loss: 0.5452\n",
            "Epoch 77/200\n",
            "4/4 [==============================] - 0s 7ms/step - loss: 0.4583 - val_loss: 0.5464\n",
            "Epoch 78/200\n",
            "4/4 [==============================] - 0s 6ms/step - loss: 0.4585 - val_loss: 0.5479\n",
            "Epoch 79/200\n",
            "4/4 [==============================] - 0s 6ms/step - loss: 0.4590 - val_loss: 0.5486\n",
            "Epoch 80/200\n",
            "4/4 [==============================] - 0s 6ms/step - loss: 0.4615 - val_loss: 0.5480\n",
            "Epoch 81/200\n",
            "4/4 [==============================] - 0s 6ms/step - loss: 0.4588 - val_loss: 0.5480\n",
            "Epoch 82/200\n",
            "4/4 [==============================] - 0s 6ms/step - loss: 0.4582 - val_loss: 0.5474\n",
            "Epoch 83/200\n",
            "4/4 [==============================] - 0s 6ms/step - loss: 0.4592 - val_loss: 0.5451\n",
            "Epoch 84/200\n",
            "4/4 [==============================] - 0s 6ms/step - loss: 0.4604 - val_loss: 0.5466\n",
            "Epoch 85/200\n",
            "4/4 [==============================] - 0s 6ms/step - loss: 0.4593 - val_loss: 0.5461\n",
            "Epoch 86/200\n",
            "4/4 [==============================] - 0s 6ms/step - loss: 0.4620 - val_loss: 0.5458\n",
            "Epoch 87/200\n",
            "4/4 [==============================] - 0s 7ms/step - loss: 0.4589 - val_loss: 0.5470\n",
            "Epoch 88/200\n",
            "4/4 [==============================] - 0s 6ms/step - loss: 0.4586 - val_loss: 0.5468\n",
            "Epoch 89/200\n",
            "4/4 [==============================] - 0s 7ms/step - loss: 0.4610 - val_loss: 0.5469\n",
            "Epoch 90/200\n",
            "4/4 [==============================] - 0s 6ms/step - loss: 0.4582 - val_loss: 0.5469\n",
            "Epoch 91/200\n",
            "4/4 [==============================] - 0s 7ms/step - loss: 0.4591 - val_loss: 0.5451\n",
            "Epoch 92/200\n",
            "4/4 [==============================] - 0s 7ms/step - loss: 0.4605 - val_loss: 0.5464\n",
            "Epoch 93/200\n",
            "4/4 [==============================] - 0s 9ms/step - loss: 0.4588 - val_loss: 0.5480\n",
            "Epoch 94/200\n",
            "4/4 [==============================] - 0s 7ms/step - loss: 0.4599 - val_loss: 0.5480\n",
            "Epoch 95/200\n",
            "4/4 [==============================] - 0s 6ms/step - loss: 0.4618 - val_loss: 0.5481\n",
            "Epoch 96/200\n",
            "4/4 [==============================] - 0s 6ms/step - loss: 0.4620 - val_loss: 0.5490\n",
            "Epoch 97/200\n",
            "4/4 [==============================] - 0s 6ms/step - loss: 0.4585 - val_loss: 0.5478\n",
            "Epoch 98/200\n",
            "4/4 [==============================] - 0s 6ms/step - loss: 0.4586 - val_loss: 0.5477\n",
            "Epoch 99/200\n",
            "4/4 [==============================] - 0s 6ms/step - loss: 0.4592 - val_loss: 0.5480\n",
            "Epoch 100/200\n",
            "4/4 [==============================] - 0s 6ms/step - loss: 0.4611 - val_loss: 0.5464\n",
            "Epoch 101/200\n",
            "4/4 [==============================] - 0s 6ms/step - loss: 0.4591 - val_loss: 0.5482\n",
            "Epoch 102/200\n",
            "4/4 [==============================] - 0s 6ms/step - loss: 0.4590 - val_loss: 0.5479\n",
            "Epoch 103/200\n",
            "4/4 [==============================] - 0s 6ms/step - loss: 0.4598 - val_loss: 0.5458\n",
            "Epoch 104/200\n",
            "4/4 [==============================] - 0s 5ms/step - loss: 0.4607 - val_loss: 0.5455\n",
            "Epoch 105/200\n",
            "4/4 [==============================] - 0s 6ms/step - loss: 0.4586 - val_loss: 0.5452\n",
            "Epoch 106/200\n",
            "4/4 [==============================] - 0s 7ms/step - loss: 0.4589 - val_loss: 0.5471\n",
            "Epoch 107/200\n",
            "4/4 [==============================] - 0s 6ms/step - loss: 0.4596 - val_loss: 0.5471\n",
            "Epoch 108/200\n",
            "4/4 [==============================] - 0s 6ms/step - loss: 0.4596 - val_loss: 0.5461\n",
            "Epoch 109/200\n",
            "4/4 [==============================] - 0s 6ms/step - loss: 0.4582 - val_loss: 0.5464\n",
            "Epoch 110/200\n",
            "4/4 [==============================] - 0s 6ms/step - loss: 0.4600 - val_loss: 0.5456\n",
            "Epoch 111/200\n",
            "4/4 [==============================] - 0s 6ms/step - loss: 0.4617 - val_loss: 0.5454\n",
            "Epoch 112/200\n",
            "4/4 [==============================] - 0s 7ms/step - loss: 0.4593 - val_loss: 0.5463\n",
            "Epoch 113/200\n",
            "4/4 [==============================] - 0s 7ms/step - loss: 0.4586 - val_loss: 0.5451\n",
            "Epoch 114/200\n",
            "4/4 [==============================] - 0s 6ms/step - loss: 0.4600 - val_loss: 0.5447\n",
            "Epoch 115/200\n",
            "4/4 [==============================] - 0s 6ms/step - loss: 0.4595 - val_loss: 0.5446\n",
            "Epoch 116/200\n",
            "4/4 [==============================] - 0s 6ms/step - loss: 0.4588 - val_loss: 0.5457\n",
            "Epoch 117/200\n",
            "4/4 [==============================] - 0s 6ms/step - loss: 0.4615 - val_loss: 0.5470\n",
            "Epoch 118/200\n",
            "4/4 [==============================] - 0s 6ms/step - loss: 0.4596 - val_loss: 0.5456\n",
            "Epoch 119/200\n",
            "4/4 [==============================] - 0s 6ms/step - loss: 0.4589 - val_loss: 0.5472\n",
            "Epoch 120/200\n",
            "4/4 [==============================] - 0s 6ms/step - loss: 0.4583 - val_loss: 0.5464\n",
            "Epoch 121/200\n",
            "4/4 [==============================] - 0s 6ms/step - loss: 0.4603 - val_loss: 0.5474\n",
            "Epoch 122/200\n",
            "4/4 [==============================] - 0s 7ms/step - loss: 0.4591 - val_loss: 0.5480\n",
            "Epoch 123/200\n",
            "4/4 [==============================] - 0s 7ms/step - loss: 0.4598 - val_loss: 0.5497\n",
            "Epoch 124/200\n",
            "4/4 [==============================] - 0s 7ms/step - loss: 0.4610 - val_loss: 0.5508\n",
            "Epoch 125/200\n",
            "4/4 [==============================] - 0s 8ms/step - loss: 0.4610 - val_loss: 0.5481\n",
            "Epoch 126/200\n",
            "4/4 [==============================] - 0s 7ms/step - loss: 0.4602 - val_loss: 0.5466\n",
            "Epoch 127/200\n",
            "4/4 [==============================] - 0s 6ms/step - loss: 0.4581 - val_loss: 0.5466\n",
            "Epoch 128/200\n",
            "4/4 [==============================] - 0s 7ms/step - loss: 0.4603 - val_loss: 0.5464\n",
            "Epoch 129/200\n",
            "4/4 [==============================] - 0s 6ms/step - loss: 0.4583 - val_loss: 0.5471\n",
            "Epoch 130/200\n",
            "4/4 [==============================] - 0s 7ms/step - loss: 0.4590 - val_loss: 0.5482\n",
            "Epoch 131/200\n",
            "4/4 [==============================] - 0s 7ms/step - loss: 0.4615 - val_loss: 0.5465\n",
            "Epoch 132/200\n",
            "4/4 [==============================] - 0s 6ms/step - loss: 0.4583 - val_loss: 0.5473\n",
            "Epoch 133/200\n",
            "4/4 [==============================] - 0s 6ms/step - loss: 0.4594 - val_loss: 0.5457\n",
            "Epoch 134/200\n",
            "4/4 [==============================] - 0s 8ms/step - loss: 0.4582 - val_loss: 0.5469\n",
            "Epoch 135/200\n",
            "4/4 [==============================] - 0s 6ms/step - loss: 0.4586 - val_loss: 0.5454\n",
            "Epoch 136/200\n",
            "4/4 [==============================] - 0s 6ms/step - loss: 0.4588 - val_loss: 0.5456\n",
            "Epoch 137/200\n",
            "4/4 [==============================] - 0s 6ms/step - loss: 0.4610 - val_loss: 0.5462\n",
            "Epoch 138/200\n",
            "4/4 [==============================] - 0s 6ms/step - loss: 0.4620 - val_loss: 0.5459\n",
            "Epoch 139/200\n",
            "4/4 [==============================] - 0s 6ms/step - loss: 0.4586 - val_loss: 0.5471\n",
            "Epoch 140/200\n",
            "4/4 [==============================] - 0s 8ms/step - loss: 0.4584 - val_loss: 0.5469\n",
            "Epoch 141/200\n",
            "4/4 [==============================] - 0s 7ms/step - loss: 0.4583 - val_loss: 0.5467\n",
            "Epoch 142/200\n",
            "4/4 [==============================] - 0s 6ms/step - loss: 0.4602 - val_loss: 0.5453\n",
            "Epoch 143/200\n",
            "4/4 [==============================] - 0s 6ms/step - loss: 0.4599 - val_loss: 0.5475\n",
            "Epoch 144/200\n",
            "4/4 [==============================] - 0s 7ms/step - loss: 0.4630 - val_loss: 0.5477\n",
            "Epoch 145/200\n",
            "4/4 [==============================] - 0s 7ms/step - loss: 0.4590 - val_loss: 0.5487\n",
            "Epoch 146/200\n",
            "4/4 [==============================] - 0s 7ms/step - loss: 0.4608 - val_loss: 0.5498\n",
            "Epoch 147/200\n",
            "4/4 [==============================] - 0s 7ms/step - loss: 0.4601 - val_loss: 0.5484\n",
            "Epoch 148/200\n",
            "4/4 [==============================] - 0s 6ms/step - loss: 0.4588 - val_loss: 0.5481\n",
            "Epoch 149/200\n",
            "4/4 [==============================] - 0s 6ms/step - loss: 0.4585 - val_loss: 0.5473\n",
            "Epoch 150/200\n",
            "4/4 [==============================] - 0s 7ms/step - loss: 0.4602 - val_loss: 0.5480\n",
            "Epoch 151/200\n",
            "4/4 [==============================] - 0s 7ms/step - loss: 0.4591 - val_loss: 0.5459\n",
            "Epoch 152/200\n",
            "4/4 [==============================] - 0s 6ms/step - loss: 0.4584 - val_loss: 0.5461\n",
            "Epoch 153/200\n",
            "4/4 [==============================] - 0s 6ms/step - loss: 0.4586 - val_loss: 0.5455\n",
            "Epoch 154/200\n",
            "4/4 [==============================] - 0s 7ms/step - loss: 0.4589 - val_loss: 0.5464\n",
            "Epoch 155/200\n",
            "4/4 [==============================] - 0s 7ms/step - loss: 0.4591 - val_loss: 0.5460\n",
            "Epoch 156/200\n",
            "4/4 [==============================] - 0s 7ms/step - loss: 0.4598 - val_loss: 0.5472\n",
            "Epoch 157/200\n",
            "4/4 [==============================] - 0s 6ms/step - loss: 0.4605 - val_loss: 0.5458\n",
            "Epoch 158/200\n",
            "4/4 [==============================] - 0s 7ms/step - loss: 0.4584 - val_loss: 0.5469\n",
            "Epoch 159/200\n",
            "4/4 [==============================] - 0s 7ms/step - loss: 0.4596 - val_loss: 0.5469\n",
            "Epoch 160/200\n",
            "4/4 [==============================] - 0s 6ms/step - loss: 0.4594 - val_loss: 0.5471\n",
            "Epoch 161/200\n",
            "4/4 [==============================] - 0s 6ms/step - loss: 0.4595 - val_loss: 0.5471\n",
            "Epoch 162/200\n",
            "4/4 [==============================] - 0s 6ms/step - loss: 0.4584 - val_loss: 0.5478\n",
            "Epoch 163/200\n",
            "4/4 [==============================] - 0s 6ms/step - loss: 0.4596 - val_loss: 0.5484\n",
            "Epoch 164/200\n",
            "4/4 [==============================] - 0s 7ms/step - loss: 0.4598 - val_loss: 0.5487\n",
            "Epoch 165/200\n",
            "4/4 [==============================] - 0s 7ms/step - loss: 0.4598 - val_loss: 0.5490\n",
            "Epoch 166/200\n",
            "4/4 [==============================] - 0s 7ms/step - loss: 0.4607 - val_loss: 0.5464\n",
            "Epoch 167/200\n",
            "4/4 [==============================] - 0s 8ms/step - loss: 0.4582 - val_loss: 0.5471\n",
            "Epoch 168/200\n",
            "4/4 [==============================] - 0s 6ms/step - loss: 0.4597 - val_loss: 0.5476\n",
            "Epoch 169/200\n",
            "4/4 [==============================] - 0s 6ms/step - loss: 0.4588 - val_loss: 0.5474\n",
            "Epoch 170/200\n",
            "4/4 [==============================] - 0s 7ms/step - loss: 0.4584 - val_loss: 0.5477\n",
            "Epoch 171/200\n",
            "4/4 [==============================] - 0s 7ms/step - loss: 0.4588 - val_loss: 0.5460\n",
            "Epoch 172/200\n",
            "4/4 [==============================] - 0s 7ms/step - loss: 0.4604 - val_loss: 0.5468\n",
            "Epoch 173/200\n",
            "4/4 [==============================] - 0s 9ms/step - loss: 0.4601 - val_loss: 0.5473\n",
            "Epoch 174/200\n",
            "4/4 [==============================] - 0s 8ms/step - loss: 0.4588 - val_loss: 0.5479\n",
            "Epoch 175/200\n",
            "4/4 [==============================] - 0s 7ms/step - loss: 0.4599 - val_loss: 0.5465\n",
            "Epoch 176/200\n",
            "4/4 [==============================] - 0s 7ms/step - loss: 0.4600 - val_loss: 0.5483\n",
            "Epoch 177/200\n",
            "4/4 [==============================] - 0s 7ms/step - loss: 0.4585 - val_loss: 0.5485\n",
            "Epoch 178/200\n",
            "4/4 [==============================] - 0s 6ms/step - loss: 0.4607 - val_loss: 0.5473\n",
            "Epoch 179/200\n",
            "4/4 [==============================] - 0s 6ms/step - loss: 0.4582 - val_loss: 0.5470\n",
            "Epoch 180/200\n",
            "4/4 [==============================] - 0s 6ms/step - loss: 0.4586 - val_loss: 0.5486\n",
            "Epoch 181/200\n",
            "4/4 [==============================] - 0s 7ms/step - loss: 0.4593 - val_loss: 0.5484\n",
            "Epoch 182/200\n",
            "4/4 [==============================] - 0s 6ms/step - loss: 0.4599 - val_loss: 0.5466\n",
            "Epoch 183/200\n",
            "4/4 [==============================] - 0s 7ms/step - loss: 0.4597 - val_loss: 0.5456\n",
            "Epoch 184/200\n",
            "4/4 [==============================] - 0s 7ms/step - loss: 0.4606 - val_loss: 0.5464\n",
            "Epoch 185/200\n",
            "4/4 [==============================] - 0s 8ms/step - loss: 0.4594 - val_loss: 0.5460\n",
            "Epoch 186/200\n",
            "4/4 [==============================] - 0s 7ms/step - loss: 0.4596 - val_loss: 0.5454\n",
            "Epoch 187/200\n",
            "4/4 [==============================] - 0s 7ms/step - loss: 0.4596 - val_loss: 0.5463\n",
            "Epoch 188/200\n",
            "4/4 [==============================] - 0s 8ms/step - loss: 0.4599 - val_loss: 0.5454\n",
            "Epoch 189/200\n",
            "4/4 [==============================] - 0s 8ms/step - loss: 0.4592 - val_loss: 0.5457\n",
            "Epoch 190/200\n",
            "4/4 [==============================] - 0s 6ms/step - loss: 0.4582 - val_loss: 0.5467\n",
            "Epoch 191/200\n",
            "4/4 [==============================] - 0s 6ms/step - loss: 0.4585 - val_loss: 0.5454\n",
            "Epoch 192/200\n",
            "4/4 [==============================] - 0s 7ms/step - loss: 0.4586 - val_loss: 0.5467\n",
            "Epoch 193/200\n",
            "4/4 [==============================] - 0s 7ms/step - loss: 0.4581 - val_loss: 0.5470\n",
            "Epoch 194/200\n",
            "4/4 [==============================] - 0s 12ms/step - loss: 0.4611 - val_loss: 0.5465\n",
            "Epoch 195/200\n",
            "4/4 [==============================] - 0s 6ms/step - loss: 0.4587 - val_loss: 0.5472\n",
            "Epoch 196/200\n",
            "4/4 [==============================] - 0s 7ms/step - loss: 0.4587 - val_loss: 0.5455\n",
            "Epoch 197/200\n",
            "4/4 [==============================] - 0s 7ms/step - loss: 0.4599 - val_loss: 0.5454\n",
            "Epoch 198/200\n",
            "4/4 [==============================] - 0s 7ms/step - loss: 0.4587 - val_loss: 0.5461\n",
            "Epoch 199/200\n",
            "4/4 [==============================] - 0s 7ms/step - loss: 0.4592 - val_loss: 0.5448\n",
            "Epoch 200/200\n",
            "4/4 [==============================] - 0s 7ms/step - loss: 0.4600 - val_loss: 0.5454\n"
          ],
          "name": "stdout"
        },
        {
          "output_type": "execute_result",
          "data": {
            "text/plain": [
              "<tensorflow.python.keras.callbacks.History at 0x7f33ef916940>"
            ]
          },
          "metadata": {
            "tags": []
          },
          "execution_count": 68
        }
      ]
    },
    {
      "cell_type": "code",
      "metadata": {
        "colab": {
          "base_uri": "https://localhost:8080/"
        },
        "id": "kZrn8JugGMxH",
        "outputId": "0b031226-b441-43da-d763-af8fbba38d13"
      },
      "source": [
        "model.fit(x_train, y_train, validation_split = 0.1, epochs=100 )"
      ],
      "execution_count": null,
      "outputs": [
        {
          "output_type": "stream",
          "text": [
            "Epoch 1/100\n",
            "4/4 [==============================] - 0s 14ms/step - loss: 0.4609 - val_loss: 0.5465\n",
            "Epoch 2/100\n",
            "4/4 [==============================] - 0s 6ms/step - loss: 0.4584 - val_loss: 0.5464\n",
            "Epoch 3/100\n",
            "4/4 [==============================] - 0s 6ms/step - loss: 0.4589 - val_loss: 0.5453\n",
            "Epoch 4/100\n",
            "4/4 [==============================] - 0s 5ms/step - loss: 0.4599 - val_loss: 0.5449\n",
            "Epoch 5/100\n",
            "4/4 [==============================] - 0s 5ms/step - loss: 0.4604 - val_loss: 0.5451\n",
            "Epoch 6/100\n",
            "4/4 [==============================] - 0s 6ms/step - loss: 0.4600 - val_loss: 0.5453\n",
            "Epoch 7/100\n",
            "4/4 [==============================] - 0s 5ms/step - loss: 0.4598 - val_loss: 0.5473\n",
            "Epoch 8/100\n",
            "4/4 [==============================] - 0s 5ms/step - loss: 0.4599 - val_loss: 0.5465\n",
            "Epoch 9/100\n",
            "4/4 [==============================] - 0s 6ms/step - loss: 0.4597 - val_loss: 0.5465\n",
            "Epoch 10/100\n",
            "4/4 [==============================] - 0s 6ms/step - loss: 0.4606 - val_loss: 0.5475\n",
            "Epoch 11/100\n",
            "4/4 [==============================] - 0s 5ms/step - loss: 0.4613 - val_loss: 0.5475\n",
            "Epoch 12/100\n",
            "4/4 [==============================] - 0s 5ms/step - loss: 0.4585 - val_loss: 0.5465\n",
            "Epoch 13/100\n",
            "4/4 [==============================] - 0s 6ms/step - loss: 0.4590 - val_loss: 0.5470\n",
            "Epoch 14/100\n",
            "4/4 [==============================] - 0s 6ms/step - loss: 0.4589 - val_loss: 0.5456\n",
            "Epoch 15/100\n",
            "4/4 [==============================] - 0s 6ms/step - loss: 0.4593 - val_loss: 0.5455\n",
            "Epoch 16/100\n",
            "4/4 [==============================] - 0s 6ms/step - loss: 0.4581 - val_loss: 0.5459\n",
            "Epoch 17/100\n",
            "4/4 [==============================] - 0s 6ms/step - loss: 0.4582 - val_loss: 0.5459\n",
            "Epoch 18/100\n",
            "4/4 [==============================] - 0s 6ms/step - loss: 0.4591 - val_loss: 0.5464\n",
            "Epoch 19/100\n",
            "4/4 [==============================] - 0s 6ms/step - loss: 0.4613 - val_loss: 0.5478\n",
            "Epoch 20/100\n",
            "4/4 [==============================] - 0s 6ms/step - loss: 0.4592 - val_loss: 0.5471\n",
            "Epoch 21/100\n",
            "4/4 [==============================] - 0s 6ms/step - loss: 0.4584 - val_loss: 0.5476\n",
            "Epoch 22/100\n",
            "4/4 [==============================] - 0s 6ms/step - loss: 0.4590 - val_loss: 0.5485\n",
            "Epoch 23/100\n",
            "4/4 [==============================] - 0s 5ms/step - loss: 0.4600 - val_loss: 0.5493\n",
            "Epoch 24/100\n",
            "4/4 [==============================] - 0s 5ms/step - loss: 0.4588 - val_loss: 0.5494\n",
            "Epoch 25/100\n",
            "4/4 [==============================] - 0s 5ms/step - loss: 0.4612 - val_loss: 0.5484\n",
            "Epoch 26/100\n",
            "4/4 [==============================] - 0s 5ms/step - loss: 0.4599 - val_loss: 0.5478\n",
            "Epoch 27/100\n",
            "4/4 [==============================] - 0s 5ms/step - loss: 0.4583 - val_loss: 0.5465\n",
            "Epoch 28/100\n",
            "4/4 [==============================] - 0s 6ms/step - loss: 0.4601 - val_loss: 0.5458\n",
            "Epoch 29/100\n",
            "4/4 [==============================] - 0s 5ms/step - loss: 0.4586 - val_loss: 0.5452\n",
            "Epoch 30/100\n",
            "4/4 [==============================] - 0s 5ms/step - loss: 0.4590 - val_loss: 0.5457\n",
            "Epoch 31/100\n",
            "4/4 [==============================] - 0s 6ms/step - loss: 0.4607 - val_loss: 0.5456\n",
            "Epoch 32/100\n",
            "4/4 [==============================] - 0s 6ms/step - loss: 0.4588 - val_loss: 0.5467\n",
            "Epoch 33/100\n",
            "4/4 [==============================] - 0s 6ms/step - loss: 0.4595 - val_loss: 0.5464\n",
            "Epoch 34/100\n",
            "4/4 [==============================] - 0s 6ms/step - loss: 0.4586 - val_loss: 0.5462\n",
            "Epoch 35/100\n",
            "4/4 [==============================] - 0s 6ms/step - loss: 0.4588 - val_loss: 0.5456\n",
            "Epoch 36/100\n",
            "4/4 [==============================] - 0s 5ms/step - loss: 0.4610 - val_loss: 0.5457\n",
            "Epoch 37/100\n",
            "4/4 [==============================] - 0s 6ms/step - loss: 0.4588 - val_loss: 0.5458\n",
            "Epoch 38/100\n",
            "4/4 [==============================] - 0s 9ms/step - loss: 0.4582 - val_loss: 0.5460\n",
            "Epoch 39/100\n",
            "4/4 [==============================] - 0s 6ms/step - loss: 0.4582 - val_loss: 0.5463\n",
            "Epoch 40/100\n",
            "4/4 [==============================] - 0s 7ms/step - loss: 0.4595 - val_loss: 0.5461\n",
            "Epoch 41/100\n",
            "4/4 [==============================] - 0s 7ms/step - loss: 0.4591 - val_loss: 0.5474\n",
            "Epoch 42/100\n",
            "4/4 [==============================] - 0s 6ms/step - loss: 0.4594 - val_loss: 0.5464\n",
            "Epoch 43/100\n",
            "4/4 [==============================] - 0s 6ms/step - loss: 0.4587 - val_loss: 0.5456\n",
            "Epoch 44/100\n",
            "4/4 [==============================] - 0s 6ms/step - loss: 0.4588 - val_loss: 0.5454\n",
            "Epoch 45/100\n",
            "4/4 [==============================] - 0s 6ms/step - loss: 0.4609 - val_loss: 0.5453\n",
            "Epoch 46/100\n",
            "4/4 [==============================] - 0s 7ms/step - loss: 0.4596 - val_loss: 0.5452\n",
            "Epoch 47/100\n",
            "4/4 [==============================] - 0s 8ms/step - loss: 0.4597 - val_loss: 0.5456\n",
            "Epoch 48/100\n",
            "4/4 [==============================] - 0s 7ms/step - loss: 0.4607 - val_loss: 0.5462\n",
            "Epoch 49/100\n",
            "4/4 [==============================] - 0s 7ms/step - loss: 0.4592 - val_loss: 0.5466\n",
            "Epoch 50/100\n",
            "4/4 [==============================] - 0s 7ms/step - loss: 0.4591 - val_loss: 0.5464\n",
            "Epoch 51/100\n",
            "4/4 [==============================] - 0s 6ms/step - loss: 0.4585 - val_loss: 0.5470\n",
            "Epoch 52/100\n",
            "4/4 [==============================] - 0s 6ms/step - loss: 0.4584 - val_loss: 0.5476\n",
            "Epoch 53/100\n",
            "4/4 [==============================] - 0s 8ms/step - loss: 0.4583 - val_loss: 0.5465\n",
            "Epoch 54/100\n",
            "4/4 [==============================] - 0s 7ms/step - loss: 0.4588 - val_loss: 0.5458\n",
            "Epoch 55/100\n",
            "4/4 [==============================] - 0s 6ms/step - loss: 0.4585 - val_loss: 0.5462\n",
            "Epoch 56/100\n",
            "4/4 [==============================] - 0s 6ms/step - loss: 0.4605 - val_loss: 0.5453\n",
            "Epoch 57/100\n",
            "4/4 [==============================] - 0s 6ms/step - loss: 0.4593 - val_loss: 0.5457\n",
            "Epoch 58/100\n",
            "4/4 [==============================] - 0s 6ms/step - loss: 0.4585 - val_loss: 0.5456\n",
            "Epoch 59/100\n",
            "4/4 [==============================] - 0s 6ms/step - loss: 0.4593 - val_loss: 0.5468\n",
            "Epoch 60/100\n",
            "4/4 [==============================] - 0s 6ms/step - loss: 0.4590 - val_loss: 0.5480\n",
            "Epoch 61/100\n",
            "4/4 [==============================] - 0s 6ms/step - loss: 0.4591 - val_loss: 0.5485\n",
            "Epoch 62/100\n",
            "4/4 [==============================] - 0s 6ms/step - loss: 0.4611 - val_loss: 0.5469\n",
            "Epoch 63/100\n",
            "4/4 [==============================] - 0s 6ms/step - loss: 0.4600 - val_loss: 0.5464\n",
            "Epoch 64/100\n",
            "4/4 [==============================] - 0s 6ms/step - loss: 0.4599 - val_loss: 0.5462\n",
            "Epoch 65/100\n",
            "4/4 [==============================] - 0s 6ms/step - loss: 0.4585 - val_loss: 0.5463\n",
            "Epoch 66/100\n",
            "4/4 [==============================] - 0s 6ms/step - loss: 0.4593 - val_loss: 0.5474\n",
            "Epoch 67/100\n",
            "4/4 [==============================] - 0s 5ms/step - loss: 0.4599 - val_loss: 0.5464\n",
            "Epoch 68/100\n",
            "4/4 [==============================] - 0s 6ms/step - loss: 0.4593 - val_loss: 0.5467\n",
            "Epoch 69/100\n",
            "4/4 [==============================] - 0s 6ms/step - loss: 0.4596 - val_loss: 0.5467\n",
            "Epoch 70/100\n",
            "4/4 [==============================] - 0s 6ms/step - loss: 0.4582 - val_loss: 0.5462\n",
            "Epoch 71/100\n",
            "4/4 [==============================] - 0s 6ms/step - loss: 0.4602 - val_loss: 0.5457\n",
            "Epoch 72/100\n",
            "4/4 [==============================] - 0s 6ms/step - loss: 0.4587 - val_loss: 0.5465\n",
            "Epoch 73/100\n",
            "4/4 [==============================] - 0s 8ms/step - loss: 0.4583 - val_loss: 0.5470\n",
            "Epoch 74/100\n",
            "4/4 [==============================] - 0s 6ms/step - loss: 0.4586 - val_loss: 0.5466\n",
            "Epoch 75/100\n",
            "4/4 [==============================] - 0s 6ms/step - loss: 0.4582 - val_loss: 0.5466\n",
            "Epoch 76/100\n",
            "4/4 [==============================] - 0s 5ms/step - loss: 0.4595 - val_loss: 0.5471\n",
            "Epoch 77/100\n",
            "4/4 [==============================] - 0s 6ms/step - loss: 0.4603 - val_loss: 0.5461\n",
            "Epoch 78/100\n",
            "4/4 [==============================] - 0s 6ms/step - loss: 0.4605 - val_loss: 0.5467\n",
            "Epoch 79/100\n",
            "4/4 [==============================] - 0s 5ms/step - loss: 0.4585 - val_loss: 0.5472\n",
            "Epoch 80/100\n",
            "4/4 [==============================] - 0s 6ms/step - loss: 0.4596 - val_loss: 0.5464\n",
            "Epoch 81/100\n",
            "4/4 [==============================] - 0s 6ms/step - loss: 0.4582 - val_loss: 0.5461\n",
            "Epoch 82/100\n",
            "4/4 [==============================] - 0s 6ms/step - loss: 0.4589 - val_loss: 0.5458\n",
            "Epoch 83/100\n",
            "4/4 [==============================] - 0s 6ms/step - loss: 0.4592 - val_loss: 0.5452\n",
            "Epoch 84/100\n",
            "4/4 [==============================] - 0s 7ms/step - loss: 0.4585 - val_loss: 0.5464\n",
            "Epoch 85/100\n",
            "4/4 [==============================] - 0s 7ms/step - loss: 0.4589 - val_loss: 0.5470\n",
            "Epoch 86/100\n",
            "4/4 [==============================] - 0s 6ms/step - loss: 0.4594 - val_loss: 0.5470\n",
            "Epoch 87/100\n",
            "4/4 [==============================] - 0s 8ms/step - loss: 0.4583 - val_loss: 0.5459\n",
            "Epoch 88/100\n",
            "4/4 [==============================] - 0s 6ms/step - loss: 0.4588 - val_loss: 0.5464\n",
            "Epoch 89/100\n",
            "4/4 [==============================] - 0s 6ms/step - loss: 0.4584 - val_loss: 0.5456\n",
            "Epoch 90/100\n",
            "4/4 [==============================] - 0s 6ms/step - loss: 0.4582 - val_loss: 0.5454\n",
            "Epoch 91/100\n",
            "4/4 [==============================] - 0s 6ms/step - loss: 0.4597 - val_loss: 0.5451\n",
            "Epoch 92/100\n",
            "4/4 [==============================] - 0s 6ms/step - loss: 0.4593 - val_loss: 0.5454\n",
            "Epoch 93/100\n",
            "4/4 [==============================] - 0s 6ms/step - loss: 0.4584 - val_loss: 0.5465\n",
            "Epoch 94/100\n",
            "4/4 [==============================] - 0s 6ms/step - loss: 0.4583 - val_loss: 0.5461\n",
            "Epoch 95/100\n",
            "4/4 [==============================] - 0s 7ms/step - loss: 0.4604 - val_loss: 0.5455\n",
            "Epoch 96/100\n",
            "4/4 [==============================] - 0s 7ms/step - loss: 0.4590 - val_loss: 0.5454\n",
            "Epoch 97/100\n",
            "4/4 [==============================] - 0s 7ms/step - loss: 0.4589 - val_loss: 0.5454\n",
            "Epoch 98/100\n",
            "4/4 [==============================] - 0s 6ms/step - loss: 0.4588 - val_loss: 0.5470\n",
            "Epoch 99/100\n",
            "4/4 [==============================] - 0s 6ms/step - loss: 0.4582 - val_loss: 0.5473\n",
            "Epoch 100/100\n",
            "4/4 [==============================] - 0s 5ms/step - loss: 0.4598 - val_loss: 0.5486\n"
          ],
          "name": "stdout"
        },
        {
          "output_type": "execute_result",
          "data": {
            "text/plain": [
              "<tensorflow.python.keras.callbacks.History at 0x7f33ef92deb8>"
            ]
          },
          "metadata": {
            "tags": []
          },
          "execution_count": 70
        }
      ]
    },
    {
      "cell_type": "code",
      "metadata": {
        "colab": {
          "base_uri": "https://localhost:8080/",
          "height": 163
        },
        "id": "F-kVbs9-80EN",
        "outputId": "8385efae-5ff0-4148-a889-4a8dba23fd4f"
      },
      "source": [
        "model.predict(x_test)"
      ],
      "execution_count": null,
      "outputs": [
        {
          "output_type": "error",
          "ename": "NameError",
          "evalue": "ignored",
          "traceback": [
            "\u001b[0;31m---------------------------------------------------------------------------\u001b[0m",
            "\u001b[0;31mNameError\u001b[0m                                 Traceback (most recent call last)",
            "\u001b[0;32m<ipython-input-1-a556f0421074>\u001b[0m in \u001b[0;36m<module>\u001b[0;34m()\u001b[0m\n\u001b[0;32m----> 1\u001b[0;31m \u001b[0mmodel\u001b[0m\u001b[0;34m.\u001b[0m\u001b[0mpredict\u001b[0m\u001b[0;34m(\u001b[0m\u001b[0mx_test\u001b[0m\u001b[0;34m)\u001b[0m\u001b[0;34m\u001b[0m\u001b[0;34m\u001b[0m\u001b[0m\n\u001b[0m",
            "\u001b[0;31mNameError\u001b[0m: name 'model' is not defined"
          ]
        }
      ]
    },
    {
      "cell_type": "code",
      "metadata": {
        "id": "JTglJMbT94-e"
      },
      "source": [
        ""
      ],
      "execution_count": null,
      "outputs": []
    }
  ]
}